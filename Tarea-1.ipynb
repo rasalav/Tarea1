{
 "cells": [
  {
   "cell_type": "markdown",
   "metadata": {},
   "source": [
    "# PROGRAMA DE CIENCIAS DE LOS DATOS \n",
    "## **CURSO: APRENDIZAJE AUTOMÁTICO (MACHINE LEARNING)**\n",
    "### **TAREA 1**\n",
    "\n",
    "Profesor: MSc. Felipe Meza\n",
    "\n",
    "\n",
    "Alumnos: \n",
    "\n",
    "  Lester Salazar Viales\n",
    "  \n",
    "  Randal Salazar Viales"
   ]
  },
  {
   "cell_type": "markdown",
   "metadata": {},
   "source": [
    "### Instalación de Dependencias (Librerías)"
   ]
  },
  {
   "cell_type": "code",
   "execution_count": 486,
   "metadata": {},
   "outputs": [],
   "source": [
    "# Cuando se está utilizando Google Collab, debe instalarse Pytorch\n",
    "##!pip install torch\n",
    "\n",
    "#Importación de librerías\n",
    "##import torch as torch\n",
    "import numpy as np\n",
    "import pandas as pd\n",
    "from pandas import read_csv\n",
    "import sklearn as sk\n",
    "from matplotlib import pyplot as plt\n",
    "from mpl_toolkits.mplot3d import Axes3D\n",
    "from matplotlib import cm\n",
    "from sklearn import preprocessing\n",
    "\n",
    "#scikit binary classification algorithms\n",
    "#from sklearn.discriminant_analysis import LinearDiscriminantAnalysis\n",
    "#from sklearn.model_selection import KFold\n",
    "#from sklearn.model_selection import cross_val_score\n",
    "#from sklearn.linear_model import Perceptron"
   ]
  },
  {
   "cell_type": "code",
   "execution_count": 487,
   "metadata": {},
   "outputs": [
    {
     "name": "stdout",
     "output_type": "stream",
     "text": [
      " \n",
      "Path de ubicación del archivo de datos a emplear: \n",
      "https://raw.githubusercontent.com/rasalav/Tarea1/master/daily-min-temperatures.csv\n"
     ]
    }
   ],
   "source": [
    "# Path para accesar el archivo de datos a emplear: daily-min-temperatures.csv.\n",
    "# Ruta Local \n",
    "#dailymintempDatasetPath = 'D:\\Randal\\Ciencia de los Datos\\Curso2\\DataScienceTEC-master\\Clase1\\daily-min-temperatures.csv'\n",
    "\n",
    "# Ruta Web: GITHUB \n",
    "dailymintempDatasetPath = 'https://raw.githubusercontent.com/rasalav/Tarea1/master/daily-min-temperatures.csv'\n",
    "\n",
    "print (\" \")\n",
    "print (\"Path de ubicación del archivo de datos a emplear: \")\n",
    "print(dailymintempDatasetPath)"
   ]
  },
  {
   "cell_type": "markdown",
   "metadata": {},
   "source": [
    "### Lectura de datos del archivo: daily-min-temperatures.csv"
   ]
  },
  {
   "cell_type": "code",
   "execution_count": 488,
   "metadata": {},
   "outputs": [],
   "source": [
    "#read the dataset from csv\n",
    "##dataset = read_csv(dailymintempDatasetPath, header=None)\n",
    "#dataset = pd.read_csv(\"D:\\Randal\\Ciencia de los Datos\\Curso2\\DataScienceTEC-master\\Clase1\\daily-min-temperatures.csv\", sep=\",\", header=0)\n",
    "dataset = pd.read_csv(dailymintempDatasetPath, sep=\",\", header=0)\n",
    "\n",
    "# Otra forma de cargar archivo:\n",
    "#url = 'https://raw.githubusercontent.com/rasalav/Tarea1/master/daily-min-temperatures.csv'\n",
    "#dataset = pd.read_csv(url, sep=\",\", header=0)\n"
   ]
  },
  {
   "cell_type": "markdown",
   "metadata": {},
   "source": [
    "### Estadística Descriptiva para los datos base\n",
    "Podemos utilizar la función \"describe\" de Pandas, para observar los valores mínimos y máximos de una columna, cuartiles, y estadísticas descriptivas básicas."
   ]
  },
  {
   "cell_type": "code",
   "execution_count": 489,
   "metadata": {},
   "outputs": [
    {
     "name": "stdout",
     "output_type": "stream",
     "text": [
      "Estadística Descriptiva del Total de Datos\n",
      "              Temp\n",
      "count  3650.000000\n",
      "mean     11.177753\n",
      "std       4.071837\n",
      "min       0.000000\n",
      "25%       8.300000\n",
      "50%      11.000000\n",
      "75%      14.000000\n",
      "max      26.300000\n",
      " \n",
      "Previsualización (Muestra) de los primeros  20  datos: \n",
      "          Date  Temp\n",
      "0   1981-01-01  20.7\n",
      "1   1981-01-02  17.9\n",
      "2   1981-01-03  18.8\n",
      "3   1981-01-04  14.6\n",
      "4   1981-01-05  15.8\n",
      "5   1981-01-06  15.8\n",
      "6   1981-01-07  15.8\n",
      "7   1981-01-08  17.4\n",
      "8   1981-01-09  21.8\n",
      "9   1981-01-10  20.0\n",
      "10  1981-01-11  16.2\n",
      "11  1981-01-12  13.3\n",
      "12  1981-01-13  16.7\n",
      "13  1981-01-14  21.5\n",
      "14  1981-01-15  25.0\n",
      "15  1981-01-16  20.7\n",
      "16  1981-01-17  20.6\n",
      "17  1981-01-18  24.8\n",
      "18  1981-01-19  17.7\n",
      "19  1981-01-20  15.5\n",
      " \n",
      "Número de ceros por columna\n",
      "Date    0\n",
      "Temp    2\n",
      "dtype: int64\n",
      " \n",
      "Dimensión del Dataframe (filas, columnas): \n",
      "(3650, 2)\n",
      " \n",
      "Cantidad de Datos NO NULOS (por columnas): \n",
      "Date    3650\n",
      "Temp    3650\n",
      "dtype: int64\n",
      " \n",
      "DATAFRAME está VACIO: \n",
      "False\n"
     ]
    }
   ],
   "source": [
    "# Datos de Previsualización (Prueba) a Mostrar \n",
    "n = 20\n",
    "\n",
    "#print descriptive stats\n",
    "print(\"Estadística Descriptiva del Total de Datos\")\n",
    "print(dataset.describe())\n",
    "print(\" \")\n",
    "\n",
    "# print the first n rows of data\n",
    "print(\"Previsualización (Muestra) de los primeros \", n, \" datos: \")\n",
    "print(dataset.head(n))\n",
    "\n",
    "print(\" \")\n",
    "print(\"Número de ceros por columna\")\n",
    "print((dataset == 0).astype(int).sum())\n",
    "\n",
    "# Dimensión del Dataframe (Filas, columnas)\n",
    "print(\" \")\n",
    "print(\"Dimensión del Dataframe (filas, columnas): \")\n",
    "print(dataset.shape)\n",
    "\n",
    "# Cantidad de Datos NO NULOS del Dataframe (columnas)\n",
    "print(\" \")\n",
    "print(\"Cantidad de Datos NO NULOS (por columnas): \")\n",
    "print(dataset.count())\n",
    "\n",
    "# Visualización de si el Dataframe está VACIO\n",
    "print(\" \")\n",
    "print(\"DATAFRAME está VACIO: \")\n",
    "print(dataset.empty)\n"
   ]
  },
  {
   "cell_type": "code",
   "execution_count": 490,
   "metadata": {},
   "outputs": [
    {
     "name": "stdout",
     "output_type": "stream",
     "text": [
      "Estadística Descriptiva del Total de Datos NORMALIZADOS\n",
      "              Date         Temp\n",
      "count         3650  3650.000000\n",
      "unique        3650   229.000000\n",
      "top     1981-08-31     0.380228\n",
      "freq             1    51.000000\n",
      " \n",
      "Muestra de los primeros 20 datos: \n",
      "          Date      Temp\n",
      "0   1981-01-01  0.787072\n",
      "1   1981-01-02  0.680608\n",
      "2   1981-01-03  0.714829\n",
      "3   1981-01-04  0.555133\n",
      "4   1981-01-05   0.60076\n",
      "5   1981-01-06   0.60076\n",
      "6   1981-01-07   0.60076\n",
      "7   1981-01-08  0.661597\n",
      "8   1981-01-09  0.828897\n",
      "9   1981-01-10  0.760456\n",
      "10  1981-01-11   0.61597\n",
      "11  1981-01-12  0.505703\n",
      "12  1981-01-13  0.634981\n",
      "13  1981-01-14   0.81749\n",
      "14  1981-01-15   0.95057\n",
      "15  1981-01-16  0.787072\n",
      "16  1981-01-17   0.78327\n",
      "17  1981-01-18  0.942966\n",
      "18  1981-01-19  0.673004\n",
      "19  1981-01-20  0.589354\n",
      " \n",
      "Estadística Descriptiva del Total de Datos ESTANDARIZADOS\n",
      "              Date         Temp\n",
      "count         3650  3650.000000\n",
      "unique        3650   229.000000\n",
      "top     1981-08-31    -0.289283\n",
      "freq             1    51.000000\n",
      " \n",
      "Muestra de los primeros 20 datos: \n",
      "          Date      Temp\n",
      "0   1981-01-01   2.33888\n",
      "1   1981-01-02   1.65114\n",
      "2   1981-01-03    1.8722\n",
      "3   1981-01-04  0.840583\n",
      "4   1981-01-05   1.13533\n",
      "5   1981-01-06   1.13533\n",
      "6   1981-01-07   1.13533\n",
      "7   1981-01-08   1.52833\n",
      "8   1981-01-09   2.60907\n",
      "9   1981-01-10   2.16695\n",
      "10  1981-01-11   1.23358\n",
      "11  1981-01-12  0.521273\n",
      "12  1981-01-13   1.35639\n",
      "13  1981-01-14   2.53538\n",
      "14  1981-01-15   3.39506\n",
      "15  1981-01-16   2.33888\n",
      "16  1981-01-17   2.31432\n",
      "17  1981-01-18   3.34594\n",
      "18  1981-01-19   1.60201\n",
      "19  1981-01-20   1.06164\n",
      " \n",
      " \n",
      "RESUMEN GENERAL\n",
      "Estadística Descriptiva para cada uno de los Tipos de Datos\n",
      " \n",
      "Tipo_Dato   #_Datos    MAX       MIN      MEDIA    DEV_STD  \n",
      "   BASE       3650   26.30000  0.00000   11.17775  4.07128  \n",
      "  NORMAL      3650   1.00000   0.00000   0.42501   0.15480  \n",
      "  ESTAND      3650   3.71437   -2.74551  -0.00000  1.00000  \n"
     ]
    }
   ],
   "source": [
    "# Creación de DataFrames que almacenarán los valores NORMALIZADOS (X_norm) y ESTANDARIZADOS (X_estand)\n",
    "X_norm = dataset.copy()\n",
    "X_estand = dataset.copy()\n",
    "\n",
    "# Creación de Matriz (Instancias) de Datos Normalizados y Estandarizados\n",
    "X_norm_data = dataset.values\n",
    "X_estand_data = dataset.values\n",
    "\n",
    "# Cálculo de datos normalizados: X_norm\n",
    "X_norm_data[:,1] = (dataset.values[:,1] - dataset.values[:,1].min())/(dataset.values[:,1].max() - dataset.values[:,1].min())\n",
    "#X_norm.values[:,1] = (dataset.values[:,1] - dataset.values[:,1].min())/(dataset.values[:,1].max() - dataset.values[:,1].min())\n",
    "\n",
    "# Cálculo de datos estandarizados: X_estand\n",
    "X_estand_data[:,1] = (dataset.values[:,1] - dataset.values[:,1].mean())/(dataset.values[:,1].std())\n",
    "#X_estand.values[:,1] = (dataset.values[:,1] - dataset.values[:,1].mean())/(dataset.values[:,1].std())\n",
    "\n",
    "\n",
    "# ****************************************************************************************************************************\n",
    "# ******************** AYUDA *************************************\n",
    "# Ingresa una columna nueva adicional a la última\n",
    "#X_norm.loc[:, 1] = X_norm_data[:, 1]\n",
    "\n",
    "# Modificación de valores de columna 1: Se ejecuta SOLAMENTE SI SE HA HECHO UN CAMBIO PREVIO (por atributos de DATAFRAME)\n",
    "# DE LO CONTRARIO, NO LO EFECTÚA\n",
    "#X_norm.values[:,1] = 0\n",
    "# ****************************************************************************************************************************\n",
    "\n",
    "\n",
    "# ******************* ACTUALIZACIÓN DE DATOS EN DATAFRAME: X_norm - X_estand ***************\n",
    "# ******************************************************************************************\n",
    "# Cambio de datos en la columna Temp por valores NORMALIZADOS\n",
    "X_norm.Temp = X_norm_data[:, 1]\n",
    "\n",
    "# ******************************************************************************************\n",
    "# Cambio de datos en la columna Temp por valores ESTANDARIZADOS\n",
    "X_estand.Temp = X_estand_data[:, 1]\n",
    "\n",
    "\n",
    "#print descriptive stats\n",
    "print(\"Estadística Descriptiva del Total de Datos NORMALIZADOS\")\n",
    "print(X_norm.describe())\n",
    "print(\" \")\n",
    "\n",
    "# print the first 20 rows of dat\n",
    "print(\"Muestra de los primeros 20 datos: \")\n",
    "print(X_norm.head(20))\n",
    "print (\" \")\n",
    "\n",
    "print(\"Estadística Descriptiva del Total de Datos ESTANDARIZADOS\")\n",
    "print(X_estand.describe())\n",
    "print(\" \")\n",
    "\n",
    "# print the first 20 rows of dat\n",
    "print(\"Muestra de los primeros 20 datos: \")\n",
    "print(X_estand.head(20))\n",
    "print (\" \")\n",
    "\n",
    "print (\" \")\n",
    "print(\"RESUMEN GENERAL\")\n",
    "print(\"Estadística Descriptiva para cada uno de los Tipos de Datos\")\n",
    "print (\" \")\n",
    "print ('{:^10}{:^2}{:^8}{:^10}{:^10}{:^10}{:^10}'.format('Tipo_Dato', '', '#_Datos', 'MAX', 'MIN', 'MEDIA', 'DEV_STD'))\n",
    "print ('{:^10}{:^2}{:^8}{:^10.5f}{:^10.5f}{:^10.5f}{:^10.5f}'.format('BASE', '', dataset.values[:,1].size, dataset.values[:,1].max(), dataset.values[:,1].min(), dataset.values[:,1].mean(), dataset.values[:,1].std()))\n",
    "print ('{:^10}{:^2}{:^8}{:^10.5f}{:^10.5f}{:^10.5f}{:^10.5f}'.format('NORMAL', '', X_norm_data[:,1].size, X_norm_data[:,1].max(), X_norm_data[:,1].min(), X_norm_data[:,1].mean(), X_norm_data[:,1].std()))\n",
    "print ('{:^10}{:^2}{:^8}{:^10.5f}{:^10.5f}{:^10.5f}{:^10.5f}'.format('ESTAND', '', X_estand_data[:,1].size, X_estand_data[:,1].max(), X_estand_data[:,1].min(), X_estand_data[:,1].mean(), X_estand_data[:,1].std()))"
   ]
  },
  {
   "cell_type": "markdown",
   "metadata": {},
   "source": [
    "### Comparación de datos de temperatura obtenidos\n",
    "Comparación de los datos obtenidos de temperatura, en forma columnar: datos base, datos normalizados y datos estandarizados."
   ]
  },
  {
   "cell_type": "code",
   "execution_count": 491,
   "metadata": {},
   "outputs": [
    {
     "name": "stdout",
     "output_type": "stream",
     "text": [
      " \n",
      " \n",
      "COMPARATIVA de los DATOS (por COLUMNA) : \n",
      "Comparación de datos de los 3 dataframe (comando JOIN): \n",
      " \n",
      "          Date  Temp   Date_NORM Temp_NORM   Date_ESTA Temp_ESTA\n",
      "0   1981-01-01  20.7  1981-01-01  0.787072  1981-01-01   2.33888\n",
      "1   1981-01-02  17.9  1981-01-02  0.680608  1981-01-02   1.65114\n",
      "2   1981-01-03  18.8  1981-01-03  0.714829  1981-01-03    1.8722\n",
      "3   1981-01-04  14.6  1981-01-04  0.555133  1981-01-04  0.840583\n",
      "4   1981-01-05  15.8  1981-01-05   0.60076  1981-01-05   1.13533\n",
      "5   1981-01-06  15.8  1981-01-06   0.60076  1981-01-06   1.13533\n",
      "6   1981-01-07  15.8  1981-01-07   0.60076  1981-01-07   1.13533\n",
      "7   1981-01-08  17.4  1981-01-08  0.661597  1981-01-08   1.52833\n",
      "8   1981-01-09  21.8  1981-01-09  0.828897  1981-01-09   2.60907\n",
      "9   1981-01-10  20.0  1981-01-10  0.760456  1981-01-10   2.16695\n",
      "10  1981-01-11  16.2  1981-01-11   0.61597  1981-01-11   1.23358\n",
      "11  1981-01-12  13.3  1981-01-12  0.505703  1981-01-12  0.521273\n",
      "12  1981-01-13  16.7  1981-01-13  0.634981  1981-01-13   1.35639\n",
      "13  1981-01-14  21.5  1981-01-14   0.81749  1981-01-14   2.53538\n",
      "14  1981-01-15  25.0  1981-01-15   0.95057  1981-01-15   3.39506\n",
      "15  1981-01-16  20.7  1981-01-16  0.787072  1981-01-16   2.33888\n",
      "16  1981-01-17  20.6  1981-01-17   0.78327  1981-01-17   2.31432\n",
      "17  1981-01-18  24.8  1981-01-18  0.942966  1981-01-18   3.34594\n",
      "18  1981-01-19  17.7  1981-01-19  0.673004  1981-01-19   1.60201\n",
      "19  1981-01-20  15.5  1981-01-20  0.589354  1981-01-20   1.06164\n",
      " \n",
      " \n",
      " \n",
      "COMPARATIVA de los DATOS:  3645  -  3650  : \n",
      " \n",
      "                           DATO        DATO        DATO   \n",
      "  Indice       Date        BASE       NORMAL     ESTANDAR \n",
      "   3645     1990-12-27   14.00000    0.53232     0.69321  \n",
      "   3646     1990-12-28   13.60000    0.51711     0.59496  \n",
      "   3647     1990-12-29   13.50000    0.51331     0.57040  \n",
      "   3648     1990-12-30   15.70000    0.59696     1.11077  \n",
      "   3649     1990-12-31   13.00000    0.49430     0.44759  \n",
      " \n",
      " \n"
     ]
    }
   ],
   "source": [
    "print(\" \")\n",
    "\n",
    "# *********************** VISUALIZACIÓN DE DATOS POR COMANDO JOIN *****************************************\n",
    "#Unión de dos data frames por columna\n",
    "#print (\"JOIN DATE \")\n",
    "#print(X_norm.join(X_estand.set_index('Date'), on='Date'))\n",
    "\n",
    "# Unión de tres dataframes por columna\n",
    "# Si se quiere visualizar el TOTAL de DATOS\n",
    "#print(dataset.join(X_norm.join(X_estand, lsuffix='_NORM', rsuffix='_ESTA')))\n",
    "\n",
    "# Visualización de n datos\n",
    "print(\" \")\n",
    "print(\"COMPARATIVA de los DATOS (por COLUMNA) : \")\n",
    "print (\"Comparación de datos de los 3 dataframe (comando JOIN): \")\n",
    "print(\" \")\n",
    "print(dataset.join(X_norm.join(X_estand, lsuffix='_NORM', rsuffix='_ESTA')).head(n))\n",
    "print(\" \")\n",
    "\n",
    "# *********************** VISUALIZACIÓN DE DATOS POR CICLO FOR *****************************************\n",
    "# Número de datos = Número de Filas de la Matriz X_norm\n",
    "# Número de Filas\n",
    "instancias = X_norm.shape[0]\n",
    "# Número de Columnas\n",
    "atributos = X_norm.shape[1]\n",
    "\n",
    "\n",
    "# CREACIÓN DE VISUALIZACIÓN DE DATOS EN RANGO: INICIO - FIN\n",
    "# FILAS A VISUALIZAR: filas = [INICIO, FIN]\n",
    "INICIO = 3645\n",
    "FIN = 3650\n",
    "filas = list(range(INICIO,FIN))\n",
    "# SI SE REQUIERE VISUALIZAR EL TOTAL DE FILAS\n",
    "#filas = list(range(0, instancias))\n",
    "columnas = list(range(1, atributos))\n",
    "\n",
    "print (\" \")\n",
    "print (\" \")\n",
    "print(\"COMPARATIVA de los DATOS: \", INICIO, \" - \", FIN,  \" : \")\n",
    "print(\" \")\n",
    "print ('{:^10}{:^2}{:^10}{:^2}{:^10}{:^2}{:^10}{:^2}{:^10}'.format('      ', '', '    ', '', 'DATO', '', 'DATO', '', 'DATO'))\n",
    "print ('{:^10}{:^2}{:^10}{:^2}{:^10}{:^2}{:^10}{:^2}{:^10}'.format('Indice', '', 'Date', '', 'BASE', '', 'NORMAL', '', 'ESTANDAR'))\n",
    "for fila in filas:\n",
    "    print ('{:^10}{:^2}{:^10}{:^2}{:^10.5f}{:^2}{:^10.5f}{:^2}{:^10.5f}'.format(fila, '', dataset.Date[fila], '', dataset.Temp[fila], '', X_norm.Temp[fila], '', X_estand.Temp[fila]))\n",
    "\n",
    "print (\" \")\n",
    "print (\" \")\n",
    "\n",
    "# ******************************************************************************************"
   ]
  },
  {
   "cell_type": "markdown",
   "metadata": {},
   "source": [
    "## 2- NORMALIZACIÓN - ESTANDARIZACIÓN de DATOS con un programa ML\n",
    "## NORMALIZACIÓN - ESTANDARIZACIÓN de DATA con SCIKIT-LEARN\n",
    "Se procederá a normalizar y estandarizar los datos empleando el programa SCIKIT-LEARN"
   ]
  },
  {
   "cell_type": "markdown",
   "metadata": {},
   "source": [
    "### Instalación de Dependencias (Librerías) - SCIKIT-LEARN\n",
    "#### Requeridas para NORMALIZAR - ESTANDARIZAR los datos"
   ]
  },
  {
   "cell_type": "code",
   "execution_count": 492,
   "metadata": {},
   "outputs": [],
   "source": [
    "from sklearn import preprocessing\n",
    "#from sklearn.preprocessing import MinMaxScaler\n"
   ]
  },
  {
   "cell_type": "markdown",
   "metadata": {},
   "source": [
    "### NORMALIZACIÓN de DATA (SCIKIT-LEARN)"
   ]
  },
  {
   "cell_type": "code",
   "execution_count": 493,
   "metadata": {},
   "outputs": [
    {
     "name": "stdout",
     "output_type": "stream",
     "text": [
      " \n",
      " Valores máximos y mínimos de los datos base (vector columna XTemp): \n",
      "Min: 0.000000, Max: 26.300000\n",
      " \n",
      " Primeros 5 valores normalizados empleando SK-LEARN: \n",
      "[0.78707224]\n",
      "[0.68060837]\n",
      "[0.7148289]\n",
      "[0.55513308]\n",
      "[0.60076046]\n"
     ]
    }
   ],
   "source": [
    "#print (dataset.values)\n",
    "\n",
    "# Asignación de valores de datos a normalizar al vector columna XTemp\n",
    "XTemp = dataset.values[:,1]\n",
    "\n",
    "# Visualización del tamaño del vector columna XTemp\n",
    "##print(XTemp.shape)\n",
    "\n",
    "# Acomodo de vector XTemp para que sea vector columna puro\n",
    "##XTemp = XTemp.reshape(-1, 1)\n",
    "XTemp = XTemp.reshape((len(XTemp), 1))\n",
    "\n",
    "##print(XTemp.shape)\n",
    "##print(dataset.shape)\n",
    "\n",
    "# train the normalization\n",
    "scaler = MinMaxScaler()\n",
    "\n",
    "scaler = scaler.fit(XTemp)\n",
    "\n",
    "# normalize the dataset\n",
    "Xsk_norm_data = scaler.transform(XTemp)\n",
    "\n",
    "# Para observar valores máximos y mínimos de los datos\n",
    "#print(scaler.data_max_)\n",
    "#print(scaler.data_min_)\n",
    "# Para apreciar valor máximo y mínimo a la vez\n",
    "#print('Min: %f, Max: %f' % (scaler.data_min_, scaler.data_max_))\n",
    "\n",
    "print (\" \")\n",
    "print (\" Valores máximos y mínimos de los datos base (vector columna XTemp): \")\n",
    "print('Min: %f, Max: %f' % (scaler.data_min_, scaler.data_max_))\n",
    "print (\" \")\n",
    "\n",
    "# print the first 5 rows\n",
    "print (\" Primeros 5 valores normalizados empleando SK-LEARN: \")\n",
    "for i in range(5):\n",
    "    print(Xsk_norm_data[i])\n",
    "\n",
    "\n",
    "# Para devolver los datos transformados (normalizados) a los datos originales\n",
    "##print (\" \")\n",
    "# inverse transform and print the first 5 rows\n",
    "##inversed = scaler.inverse_transform(Xsk_norm_data)\n",
    "##for i in range(5):\n",
    "##    print(inversed[i])"
   ]
  },
  {
   "cell_type": "code",
   "execution_count": 494,
   "metadata": {},
   "outputs": [
    {
     "name": "stdout",
     "output_type": "stream",
     "text": [
      "Tipo_Dato   #_Datos    MAX       MIN      MEDIA    DEV_STD  \n",
      "   BASE       3650   1.00000   0.00000   0.42501   0.15480  \n"
     ]
    }
   ],
   "source": [
    "# DATOS DE TAREA1\n",
    "col=0\n",
    "print ('{:^10}{:^2}{:^8}{:^10}{:^10}{:^10}{:^10}'.format('Tipo_Dato', '', '#_Datos', 'MAX', 'MIN', 'MEDIA', 'DEV_STD'))\n",
    "print ('{:^10}{:^2}{:^8}{:^10.5f}{:^10.5f}{:^10.5f}{:^10.5f}'.format('BASE', '', Xsk_norm_data[:,col].size, Xsk_norm_data[:,col].max(), Xsk_norm_data[:,col].min(), Xsk_norm_data[:,col].mean(), Xsk_norm_data[:,col].std()))"
   ]
  },
  {
   "cell_type": "markdown",
   "metadata": {},
   "source": [
    "### ESTANDARIZACIÓN de DATA (SCIKIT-LEARN)"
   ]
  },
  {
   "cell_type": "code",
   "execution_count": 495,
   "metadata": {},
   "outputs": [],
   "source": [
    "# standardize the data attributes\n",
    "Xsk_estand_data = preprocessing.scale(XTemp)\n",
    "\n"
   ]
  },
  {
   "cell_type": "code",
   "execution_count": 496,
   "metadata": {},
   "outputs": [
    {
     "name": "stdout",
     "output_type": "stream",
     "text": [
      "Tipo_Dato   #_Datos    MAX       MIN      MEDIA    DEV_STD  \n",
      "   BASE       3650   3.71437   -2.74551  -0.00000  1.00000  \n"
     ]
    }
   ],
   "source": [
    "# DATOS DE TAREA1\n",
    "col=0\n",
    "print ('{:^10}{:^2}{:^8}{:^10}{:^10}{:^10}{:^10}'.format('Tipo_Dato', '', '#_Datos', 'MAX', 'MIN', 'MEDIA', 'DEV_STD'))\n",
    "print ('{:^10}{:^2}{:^8}{:^10.5f}{:^10.5f}{:^10.5f}{:^10.5f}'.format('BASE', '', Xsk_estand_data[:,col].size, Xsk_estand_data[:,col].max(), Xsk_estand_data[:,col].min(), Xsk_estand_data[:,col].mean(), Xsk_estand_data[:,col].std()))"
   ]
  },
  {
   "cell_type": "markdown",
   "metadata": {},
   "source": [
    "## COMPARACIÓN NORMALIZACIÓN - ESTANDARIZACIÓN de DATA \n",
    "## obtenidos por los 2 medios empleados: MANUAL / SCIKIT-LEARN\n",
    "Se procederá a comparar los resultados obtenidos de normalizar y estandarizar los datos empleando las dos formas empleadas:"
   ]
  },
  {
   "cell_type": "markdown",
   "metadata": {},
   "source": [
    "### RESUMEN DE COMPARACIÓN ESTADÍSTICA DE DATOS PREPROCESADOS DE ACUERDO A LA FORMA EMPLEADA: "
   ]
  },
  {
   "cell_type": "code",
   "execution_count": 497,
   "metadata": {},
   "outputs": [
    {
     "name": "stdout",
     "output_type": "stream",
     "text": [
      " \n",
      "RESUMEN GENERAL\n",
      "Estadística Descriptiva para cada uno de los datos PREPOCESADOS de acuerdo a la forma empleada: \n",
      " \n",
      "Tipo_Dato   #_Datos    MAX       MIN      MEDIA    DEV_STD  \n",
      "   BASE       3650   26.30000  0.00000   11.17775  4.07128  \n",
      "  NORMAL      3650   1.00000   0.00000   0.42501   0.15480  \n",
      "NORMAL-SK     3650   1.00000   0.00000   0.42501   0.15480  \n",
      "  ESTAND      3650   3.71437   -2.74551  -0.00000  1.00000  \n",
      "ESTAND-SK     3650   3.71437   -2.74551  -0.00000  1.00000  \n"
     ]
    }
   ],
   "source": [
    "print (\" \")\n",
    "print(\"RESUMEN GENERAL\")\n",
    "print(\"Estadística Descriptiva para cada uno de los datos PREPOCESADOS de acuerdo a la forma empleada: \")\n",
    "print (\" \")\n",
    "print ('{:^10}{:^2}{:^8}{:^10}{:^10}{:^10}{:^10}'.format('Tipo_Dato', '', '#_Datos', 'MAX', 'MIN', 'MEDIA', 'DEV_STD'))\n",
    "print ('{:^10}{:^2}{:^8}{:^10.5f}{:^10.5f}{:^10.5f}{:^10.5f}'.format('BASE', '', dataset.values[:,1].size, dataset.values[:,1].max(), dataset.values[:,1].min(), dataset.values[:,1].mean(), dataset.values[:,1].std()))\n",
    "print ('{:^10}{:^2}{:^8}{:^10.5f}{:^10.5f}{:^10.5f}{:^10.5f}'.format('NORMAL', '', X_norm_data[:,1].size, X_norm_data[:,1].max(), X_norm_data[:,1].min(), X_norm_data[:,1].mean(), X_norm_data[:,1].std()))\n",
    "print ('{:^10}{:^2}{:^8}{:^10.5f}{:^10.5f}{:^10.5f}{:^10.5f}'.format('NORMAL-SK', '', Xsk_norm_data[:,col].size, Xsk_norm_data[:,col].max(), Xsk_norm_data[:,col].min(), Xsk_norm_data[:,col].mean(), Xsk_norm_data[:,col].std()))\n",
    "print ('{:^10}{:^2}{:^8}{:^10.5f}{:^10.5f}{:^10.5f}{:^10.5f}'.format('ESTAND', '', X_estand_data[:,1].size, X_estand_data[:,1].max(), X_estand_data[:,1].min(), X_estand_data[:,1].mean(), X_estand_data[:,1].std()))\n",
    "print ('{:^10}{:^2}{:^8}{:^10.5f}{:^10.5f}{:^10.5f}{:^10.5f}'.format('ESTAND-SK', '', Xsk_estand_data[:,col].size, Xsk_estand_data[:,col].max(), Xsk_estand_data[:,col].min(), Xsk_estand_data[:,col].mean(), Xsk_estand_data[:,col].std()))"
   ]
  },
  {
   "cell_type": "markdown",
   "metadata": {},
   "source": [
    "### COMPARACIÓN DE MUESTRAS DE DATOS PREPROCESADOS DE ACUERDO A LA FORMA EMPLEADA: "
   ]
  },
  {
   "cell_type": "code",
   "execution_count": 498,
   "metadata": {},
   "outputs": [
    {
     "name": "stdout",
     "output_type": "stream",
     "text": [
      " \n",
      " \n",
      " \n",
      "COMPARATIVA de los DATOS:  50  -  100  : \n",
      " \n",
      "                           DATO        DATO        DATO        DATO        DATO   \n",
      "  Indice       Date        BASE       NORMAL     ESTANDAR   NORMAL-SK   ESTANDAR-SK\n",
      "    50      1981-02-20   15.70000    0.59696     1.11077     0.59696     1.11077  \n",
      "    51      1981-02-21   16.60000    0.63118     1.33183     0.63118     1.33183  \n",
      "    52      1981-02-22   16.50000    0.62738     1.30727     0.62738     1.30727  \n",
      "    53      1981-02-23   14.40000    0.54753     0.79146     0.54753     0.79146  \n",
      "    54      1981-02-24   14.40000    0.54753     0.79146     0.54753     0.79146  \n",
      "    55      1981-02-25   18.50000    0.70342     1.79851     0.70342     1.79851  \n",
      "    56      1981-02-26   16.90000    0.64259     1.40552     0.64259     1.40552  \n",
      "    57      1981-02-27   17.50000    0.66540     1.55289     0.66540     1.55289  \n",
      "    58      1981-02-28   21.20000    0.80608     2.46169     0.80608     2.46169  \n",
      "    59      1981-03-01   17.80000    0.67681     1.62658     0.67681     1.62658  \n",
      "    60      1981-03-02   18.60000    0.70722     1.82307     0.70722     1.82307  \n",
      "    61      1981-03-03   17.00000    0.64639     1.43008     0.64639     1.43008  \n",
      "    62      1981-03-04   16.00000    0.60837     1.18445     0.60837     1.18445  \n",
      "    63      1981-03-05   13.30000    0.50570     0.52127     0.50570     0.52127  \n",
      "    64      1981-03-06   14.30000    0.54373     0.76690     0.54373     0.76690  \n",
      "    65      1981-03-07   11.40000    0.43346     0.05459     0.43346     0.05459  \n",
      "    66      1981-03-08   16.30000    0.61977     1.25814     0.61977     1.25814  \n",
      "    67      1981-03-09   16.10000    0.61217     1.20902     0.61217     1.20902  \n",
      "    68      1981-03-10   11.80000    0.44867     0.15284     0.44867     0.15284  \n",
      "    69      1981-03-11   12.20000    0.46388     0.25109     0.46388     0.25109  \n",
      "    70      1981-03-12   14.70000    0.55894     0.86514     0.55894     0.86514  \n",
      "    71      1981-03-13   11.80000    0.44867     0.15284     0.44867     0.15284  \n",
      "    72      1981-03-14   11.30000    0.42966     0.03003     0.42966     0.03003  \n",
      "    73      1981-03-15   10.60000    0.40304     -0.14191    0.40304     -0.14191 \n",
      "    74      1981-03-16   11.70000    0.44487     0.12828     0.44487     0.12828  \n",
      "    75      1981-03-17   14.20000    0.53992     0.74233     0.53992     0.74233  \n",
      "    76      1981-03-18   11.20000    0.42586     0.00546     0.42586     0.00546  \n",
      "    77      1981-03-19   16.90000    0.64259     1.40552     0.64259     1.40552  \n",
      "    78      1981-03-20   16.70000    0.63498     1.35639     0.63498     1.35639  \n",
      "    79      1981-03-21   8.10000     0.30798     -0.75597    0.30798     -0.75597 \n",
      "    80      1981-03-22   8.00000     0.30418     -0.78053    0.30418     -0.78053 \n",
      "    81      1981-03-23   8.80000     0.33460     -0.58403    0.33460     -0.58403 \n",
      "    82      1981-03-24   13.40000    0.50951     0.54583     0.50951     0.54583  \n",
      "    83      1981-03-25   10.90000    0.41445     -0.06822    0.41445     -0.06822 \n",
      "    84      1981-03-26   13.40000    0.50951     0.54583     0.50951     0.54583  \n",
      "    85      1981-03-27   11.00000    0.41825     -0.04366    0.41825     -0.04366 \n",
      "    86      1981-03-28   15.00000    0.57034     0.93883     0.57034     0.93883  \n",
      "    87      1981-03-29   15.70000    0.59696     1.11077     0.59696     1.11077  \n",
      "    88      1981-03-30   14.50000    0.55133     0.81602     0.55133     0.81602  \n",
      "    89      1981-03-31   15.80000    0.60076     1.13533     0.60076     1.13533  \n",
      "    90      1981-04-01   16.70000    0.63498     1.35639     0.63498     1.35639  \n",
      "    91      1981-04-02   16.80000    0.63878     1.38095     0.63878     1.38095  \n",
      "    92      1981-04-03   17.50000    0.66540     1.55289     0.66540     1.55289  \n",
      "    93      1981-04-04   17.10000    0.65019     1.45464     0.65019     1.45464  \n",
      "    94      1981-04-05   18.10000    0.68821     1.70026     0.68821     1.70026  \n",
      "    95      1981-04-06   16.60000    0.63118     1.33183     0.63118     1.33183  \n",
      "    96      1981-04-07   10.00000    0.38023     -0.28928    0.38023     -0.28928 \n",
      "    97      1981-04-08   14.90000    0.56654     0.91427     0.56654     0.91427  \n",
      "    98      1981-04-09   15.90000    0.60456     1.15989     0.60456     1.15989  \n",
      "    99      1981-04-10   13.00000    0.49430     0.44759     0.49430     0.44759  \n",
      " \n",
      " \n"
     ]
    }
   ],
   "source": [
    "print(\" \")\n",
    "\n",
    "# *********************** VISUALIZACIÓN DE DATOS POR CICLO FOR *****************************************\n",
    "# Número de datos = Número de Filas de la Matriz X_norm\n",
    "# Número de Filas\n",
    "instancias = X_norm.shape[0]\n",
    "# Número de Columnas\n",
    "atributos = X_norm.shape[1]\n",
    "\n",
    "\n",
    "# CREACIÓN DE VISUALIZACIÓN DE DATOS EN RANGO: INICIO - FIN\n",
    "# FILAS A VISUALIZAR: filas = [INICIO, FIN]\n",
    "INICIO = 50\n",
    "FIN = 100\n",
    "filas = list(range(INICIO,FIN))\n",
    "# SI SE REQUIERE VISUALIZAR EL TOTAL DE FILAS\n",
    "#filas = list(range(0, instancias))\n",
    "columnas = list(range(1, atributos))\n",
    "\n",
    "print (\" \")\n",
    "print (\" \")\n",
    "print(\"COMPARATIVA de los DATOS: \", INICIO, \" - \", FIN,  \" : \")\n",
    "print(\" \")\n",
    "print ('{:^10}{:^2}{:^10}{:^2}{:^10}{:^2}{:^10}{:^2}{:^10}{:^2}{:^10}{:^2}{:^10}'.format('      ', '', '    ', '', 'DATO', '', 'DATO', '', 'DATO', '', 'DATO', '', 'DATO'))\n",
    "print ('{:^10}{:^2}{:^10}{:^2}{:^10}{:^2}{:^10}{:^2}{:^10}{:^2}{:^10}{:^2}{:^10}'.format('Indice', '', 'Date', '', 'BASE', '', 'NORMAL', '', 'ESTANDAR', '', 'NORMAL-SK', '', 'ESTANDAR-SK'))\n",
    "for fila in filas:\n",
    "    print ('{:^10}{:^2}{:^10}{:^2}{:^10.5f}{:^2}{:^10.5f}{:^2}{:^10.5f}{:^2}{:^10.5f}{:^2}{:^10.5f}'.format(fila, '', dataset.Date[fila], '', dataset.Temp[fila], '', X_norm.Temp[fila], '', X_estand.Temp[fila], '', Xsk_norm_data[fila,0], '', Xsk_estand_data[fila,0]))\n",
    "\n",
    "print (\" \")\n",
    "print (\" \")\n",
    "\n",
    "# ******************************************************************************************"
   ]
  }
 ],
 "metadata": {
  "kernelspec": {
   "display_name": "Python 3",
   "language": "python",
   "name": "python3"
  },
  "language_info": {
   "codemirror_mode": {
    "name": "ipython",
    "version": 3
   },
   "file_extension": ".py",
   "mimetype": "text/x-python",
   "name": "python",
   "nbconvert_exporter": "python",
   "pygments_lexer": "ipython3",
   "version": "3.7.3"
  }
 },
 "nbformat": 4,
 "nbformat_minor": 2
}
